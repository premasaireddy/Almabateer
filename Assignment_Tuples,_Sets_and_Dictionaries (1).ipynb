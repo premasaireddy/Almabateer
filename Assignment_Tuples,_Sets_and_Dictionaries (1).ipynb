{
 "cells": [
  {
   "cell_type": "markdown",
   "metadata": {
    "id": "8WbUJEVzs8Bx"
   },
   "source": [
    "## <u>While doing this assignment only use those concepts which have been taught till now</u>"
   ]
  },
  {
   "cell_type": "markdown",
   "metadata": {
    "id": "KjPWYK0Rs8By"
   },
   "source": [
    "## <u>Problem 1</u>\n",
    "\n",
    "### Another measure of average\n",
    "\n",
    "* Mode is defined as the value that appears most often in a set of data values. Mode corresponds to the most frequent value.\n",
    "* You are given a list of numbers and you need to calculate the mode of this list"
   ]
  },
  {
   "cell_type": "code",
   "execution_count": null,
   "metadata": {
    "id": "34TbaGurs8Bz"
   },
   "outputs": [],
   "source": [
    "# A list containing average daily temperature over 10 days\n",
    "temperatures = [34, 40, 29, 33, 42, 40, 39, 34, 34,33 ]"
   ]
  },
  {
   "cell_type": "code",
   "execution_count": null,
   "metadata": {
    "id": "N1Yhpkiws8B3"
   },
   "outputs": [],
   "source": [
    "# Step 1 : Find the unique set of values. Store this in a list\n",
    "unique_temperatures = list(set(temperatures))"
   ]
  },
  {
   "cell_type": "code",
   "execution_count": null,
   "metadata": {
    "id": "KpMdlB5Fs8B8"
   },
   "outputs": [],
   "source": [
    "# Print the unique temperature list\n",
    "unique_temperatures"
   ]
  },
  {
   "cell_type": "code",
   "execution_count": null,
   "metadata": {
    "id": "J7CyJi_Ls8B_"
   },
   "outputs": [],
   "source": [
    "# Step 2 : Create an empty dictionary which will contain the unique temperatures as keys and their counts in the original temperatures list as values\n",
    "temp_dict = {}\n",
    "\n",
    "# Set the values for each key separately\n",
    "key,value=[],[]\n",
    "# First key\n",
    "key.append(unique_temperatures[0])\n",
    "value.append(temperatures.count(unique_temperatures[0]))\n",
    "\n",
    "# Second key\n",
    "key.append(unique_temperatures[1])\n",
    "value.append(temperatures.count(unique_temperatures[1]))\n",
    "\n",
    "# Third key\n",
    "key.append(unique_temperatures[2])\n",
    "value.append(temperatures.count(unique_temperatures[2]))\n",
    "\n",
    "# Fourth key\n",
    "key.append(unique_temperatures[3])\n",
    "value.append(temperatures.count(unique_temperatures[3]))\n",
    "\n",
    "# Fifth key\n",
    "\n",
    "key.append(unique_temperatures[4])\n",
    "value.append(temperatures.count(unique_temperatures[4]))\n",
    "# Sixth key\n",
    "key.append(unique_temperatures[5])\n",
    "value.append(temperatures.count(unique_temperatures[5]))\n",
    "temp_dict=zip(key,value)\n",
    "temp_dict=dict(temp_dict)\n",
    "temp_dict"
   ]
  },
  {
   "cell_type": "code",
   "execution_count": null,
   "metadata": {
    "id": "4-ZxbmMxtWfQ"
   },
   "outputs": [],
   "source": [
    "# Step 3: Store the dictionary values in a list\n",
    "temp_dict_frequencies = list(temp_dict.values())\n",
    "temp_dict_frequencies\n",
    "# Print the list of dictionary values\n",
    "print(f'list of frequncy of temparature as values {temp_dict_frequencies}')\n",
    "\n",
    "# Find the index of the most frequent temperature value\n",
    "most_frequent_temp_index = tuple(temp_dict_frequencies).index(max(temp_dict_frequencies))\n",
    "# Print the index\n",
    "print(f'index of the higest frequcy value of {tuple(temp_dict_frequencies).index(most_frequent_temp_index)}')"
   ]
  },
  {
   "cell_type": "code",
   "execution_count": null,
   "metadata": {
    "id": "riu9mZhcwBY6"
   },
   "outputs": [],
   "source": [
    "# Step 4 : Create the list of dictionary keys\n",
    "temp_dict_keys = list(temp_dict.keys())\n",
    "\n",
    "# Print the list of dictionary keys\n",
    "print(f'list of frequncy of temparature as keys {temp_dict_keys}')\n",
    "\n",
    "# Calculate the mode temperature\n",
    "mode_temp = temp_dict_keys[most_frequent_temp_index]\n",
    "print(f'the most frequnt temparature is {mode_temp} ')"
   ]
  },
  {
   "cell_type": "markdown",
   "metadata": {
    "id": "5qd8g8UUs8CM"
   },
   "source": [
    "## <u>Problem 2 </u>\n",
    "\n",
    "### Challenging the immutability of tuples\n",
    "\n",
    "You are given a list of tuples. You need to replace the last element of the last tuple"
   ]
  },
  {
   "cell_type": "code",
   "execution_count": null,
   "metadata": {
    "id": "FBJy9Sq_s8CN"
   },
   "outputs": [],
   "source": [
    "# Input list of tuples\n",
    "\n",
    "list_of_tuples = [(10,20,30),(30,40,50),(50,60,70)]\n",
    "\n",
    "\n",
    "# Expected output : Replace the last element 70 with 100\n",
    "# output_list = [(10,20,30),(30,40,50),(50,60,100)]"
   ]
  },
  {
   "cell_type": "code",
   "execution_count": null,
   "metadata": {
    "id": "UNtYax1as8CR"
   },
   "outputs": [],
   "source": [
    "a = list(list_of_tuples[2])\n",
    "a[2]=100\n",
    "list_of_tuples[2]=tuple(a)\n",
    "list_of_tuples"
   ]
  },
  {
   "cell_type": "markdown",
   "metadata": {
    "id": "ejRCi-vTs8CU"
   },
   "source": [
    "## <u> Problem 3 </u>\n",
    "\n",
    "Natural Language Processing or NLP is one of the most promising fields in Machine Learning. Most of the times in NLP we deal with the textual data (a bunch of strings). Sometimes when we are processing the text, it is a common practice to get rid of some set of stop words from our original text. By default stop words are very common words used in English language such as and, or, punctuations etc.\n",
    "\n",
    "In this exercise, you are provided with a default set of stop words and you need to add some extra set of custom words."
   ]
  },
  {
   "cell_type": "code",
   "execution_count": null,
   "metadata": {
    "id": "C5olNuDGs8CU"
   },
   "outputs": [],
   "source": [
    "# A sample sentence \n",
    "\n",
    "sentence = 'Hello, good morning folks! Today we will announce the half yearly performance results of the company. Due to the ongoing COVID-19 pandemic, our profits have declined by 60% as compared to the last half yearly results'\n",
    "\n",
    "# Print your sentence\n",
    "sentence"
   ]
  },
  {
   "cell_type": "code",
   "execution_count": null,
   "metadata": {
    "id": "B4afm8gCs8CY"
   },
   "outputs": [],
   "source": [
    "# Default set of stop words \n",
    "stop_words = {\"i\", \"me\", \"my\", \"myself\", \"we\", \"our\", \"ours\", \"ourselves\", \"you\", \"your\", \"yours\", \"yourself\", \n",
    "              \"yourselves\", \"he\", \"him\", \"his\", \"himself\", \"she\", \"her\", \"hers\", \"herself\", \"it\", \"its\", \"itself\",\n",
    "              \"they\", \"them\", \"their\", \"theirs\", \"themselves\", \"what\", \"which\", \"who\", \"whom\", \"this\", \"that\",\n",
    "              \"these\", \"those\", \"am\", \"is\", \"are\", \"was\", \"were\", \"be\", \"been\", \"being\", \"have\", \"has\", \"had\",\n",
    "              \"having\", \"do\", \"does\", \"did\", \"doing\", \"a\", \"an\", \"the\", \"and\", \"but\", \"if\", \"or\", \"because\",\n",
    "              \"as\", \"until\", \"while\", \"of\", \"at\", \"by\", \"for\", \"with\", \"about\", \"against\", \"between\", \"into\",\n",
    "              \"through\", \"during\", \"before\", \"after\", \"above\", \"below\", \"to\", \"from\", \"up\", \"down\", \"in\", \"out\", \n",
    "              \"on\", \"off\", \"over\", \"under\", \"again\", \"further\", \"then\", \"once\", \"here\", \"there\", \"when\", \"where\",\n",
    "              \"why\", \"how\", \"all\", \"any\", \"both\", \"each\", \"few\", \"more\", \"most\", \"other\", \"some\", \"such\", \"no\",\n",
    "              \"nor\", \"not\", \"only\", \"own\", \"same\", \"so\", \"than\", \"too\", \"very\", \"s\", \"t\", \"can\", \"will\", \"just\",\n",
    "              \"don\", \"should\", \"now\"}"
   ]
  },
  {
   "cell_type": "code",
   "execution_count": null,
   "metadata": {
    "id": "evgHHnRks8Cc"
   },
   "outputs": [],
   "source": [
    "# Update the set of stop words by adding the custom stop words\n",
    "custom_stop_words = [\"hello\",\"good\",\"morning\",\"half\",\"yearly\"]\n",
    "# Your code here\n",
    "stop_words.add(custom_stop_words[0])\n",
    "stop_words.add(custom_stop_words[1])\n",
    "stop_words.add(custom_stop_words[2])\n",
    "stop_words.add(custom_stop_words[3])\n",
    "stop_words.add(custom_stop_words[4])\n",
    "# Print the updated stop words\n",
    "stop_words"
   ]
  },
  {
   "cell_type": "code",
   "execution_count": null,
   "metadata": {
    "id": "1QbZrotrtIE3"
   },
   "outputs": [],
   "source": [
    "# Do the same task another way. Keep in mind to use the original set of stop_words for this piece of code\n",
    "\n",
    "set(custom_stop_words)\n",
    "stop_words=stop_words.union(custom_stop_words)\n",
    "\n",
    "# Print the updated stop words\n"
   ]
  },
  {
   "cell_type": "markdown",
   "metadata": {
    "id": "P1rOYC8Is8Cf"
   },
   "source": [
    "## <u>Problem 4</u>\n",
    "\n",
    " Write a Python script to check whether a given key already exists in a dictionary. If it does, drop that key from the dictionary. If it does not, add that key and corresponding value to the dictionary"
   ]
  },
  {
   "cell_type": "code",
   "execution_count": null,
   "metadata": {
    "id": "ySeGyCtCs8Cg"
   },
   "outputs": [],
   "source": [
    "# Your dictionary\n",
    "employee_dict = {'Name':'Sanket','Skills':['Python','Machine Learning','Deep Learning'],'Band':6.0,\n",
    "                 'Promotion Year':[2016,2018,2020]}"
   ]
  },
  {
   "cell_type": "code",
   "execution_count": null,
   "metadata": {
    "id": "MI7mOHaqs8Cj"
   },
   "outputs": [],
   "source": [
    "# Check if the key 'Employee_ID' is present in the dictionary. Hint : use a boolean variable to store this value\n",
    "print(f'status of Employee_ID in the dictionary is {\"Employee_ID\" in employee_dict}')\n",
    "\n",
    "# If not present add this key to this dictionary and the corresponding value to be 4503233\n",
    "if ('Employee_ID' in employee_dict) is False:\n",
    "    employee_dict.update({'Employee_ID':4503233})\n",
    "    print(f'Dictionary after update is {employee_dict}')\n",
    "else:\n",
    "    print(f'Employee_ID is already is present in the dictionary')"
   ]
  },
  {
   "cell_type": "code",
   "execution_count": null,
   "metadata": {
    "id": "ARPbZfY8s8Co"
   },
   "outputs": [],
   "source": [
    "# Check if the key 'Band' is present in the dictionary.\n",
    "print(f'if key word Band is in the dictionary it shows empty after = {employee_dict.get(\"Band\",\"NOT found\")}')\n",
    "\n",
    "# If present, drop this key from the dictionary\n",
    "if ('Band' in employee_dict) is True:\n",
    "    employee_dict.pop('Band')\n",
    "else:\n",
    "    print('band is not in employee_dict')"
   ]
  },
  {
   "cell_type": "code",
   "execution_count": null,
   "metadata": {
    "id": "lUDbbyXmulzh"
   },
   "outputs": [],
   "source": [
    "# Print the updated dictionary\n",
    "employee_dict"
   ]
  }
 ],
 "metadata": {
  "colab": {
   "collapsed_sections": [],
   "name": "Assignment - Tuples, Sets and Dictionaries.ipynb",
   "provenance": []
  },
  "kernelspec": {
   "display_name": "Python 3",
   "language": "python",
   "name": "python3"
  },
  "language_info": {
   "codemirror_mode": {
    "name": "ipython",
    "version": 3
   },
   "file_extension": ".py",
   "mimetype": "text/x-python",
   "name": "python",
   "nbconvert_exporter": "python",
   "pygments_lexer": "ipython3",
   "version": "3.8.5"
  }
 },
 "nbformat": 4,
 "nbformat_minor": 1
}
