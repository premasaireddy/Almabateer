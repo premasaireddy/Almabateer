{
 "cells": [
  {
   "cell_type": "markdown",
   "metadata": {
    "id": "8WbUJEVzs8Bx"
   },
   "source": [
    "## <u>While doing this assignment only use those concepts which have been taught till now</u>"
   ]
  },
  {
   "cell_type": "markdown",
   "metadata": {
    "id": "KjPWYK0Rs8By"
   },
   "source": [
    "## <u>Problem 1</u>\n",
    "\n",
    "### As an analyst, you had to present the quarterly performance results of your client. The data which you were provided was on daily basis. To complete this task, you needed to extract the quarter from a given date. For example:\n",
    "\n",
    "* if the date lies between 1st Jan, 2020 - 31st March, 2020, you need to extract the corresponding quarter as '2020-Q1'\n",
    "\n",
    "* if the date lies between 1st April, 2020 - 30th June, 2020, the extracted quarter will be '2020-Q2'\n",
    "\n",
    "* if the date lies between 1st July, 2020 - 30th September, 2020, the extracted quarter will be '2020-Q3' \n",
    "\n",
    "* if the date lies between 1st October, 2020 - 31st Decemeber, 2020 then the extracted quarter will be '2020-Q4'\n"
   ]
  },
  {
   "cell_type": "code",
   "execution_count": 1,
   "metadata": {
    "id": "RxVZTrenzfHC"
   },
   "outputs": [
    {
     "name": "stdout",
     "output_type": "stream",
     "text": [
      "2021-07-23\n"
     ]
    }
   ],
   "source": [
    "# Take a proper date input from the user in the format YYYY-MM-DD. Consider this date as a string\n",
    "user_date = input()"
   ]
  },
  {
   "cell_type": "code",
   "execution_count": 2,
   "metadata": {
    "id": "N1Yhpkiws8B3"
   },
   "outputs": [],
   "source": [
    "# Write your code using if else statements to extract the quarter\n",
    "date_year = user_date[0:4]\n",
    "date_month = int(user_date[5:7])\n",
    "if date_month in range(1,4):\n",
    "    Q=date_year+'-'+'Q1'\n",
    "elif date_month in range(4,7):\n",
    "    Q=date_year+'-'+'Q2'\n",
    "elif date_month in range(7,10):\n",
    "    Q=date_year+'-'+'Q3'\n",
    "else:\n",
    "    Q=date_year+'-'+'Q4'\n",
    "# Store the quarter value in a string variable named quarter\n",
    "quarter = str(Q)"
   ]
  },
  {
   "cell_type": "code",
   "execution_count": 3,
   "metadata": {
    "id": "KpMdlB5Fs8B8"
   },
   "outputs": [
    {
     "name": "stdout",
     "output_type": "stream",
     "text": [
      "2021-Q3\n"
     ]
    }
   ],
   "source": [
    "# Print the extracted quarter\n",
    "print(quarter)"
   ]
  },
  {
   "cell_type": "markdown",
   "metadata": {
    "id": "5qd8g8UUs8CM"
   },
   "source": [
    "## <u>Problem 2 </u>\n",
    "\n",
    "* You went out in your local neighbourhood to collect the data of people residing in the locale. You surveyed 5 people and collected some data and stored that in a dictionary. You recorded their names, their age, their sex, their heights(in cms) and their weights(in kgs)"
   ]
  },
  {
   "cell_type": "code",
   "execution_count": 4,
   "metadata": {
    "id": "FBJy9Sq_s8CN"
   },
   "outputs": [],
   "source": [
    "# Surveyed data \n",
    "\n",
    "locality_data = {'Name' : ['Abhinav','Sohail','Dheeraj','Rashmi','Vaishali'],\n",
    "                  'Age' : [42,29,35,28,32],\n",
    "                  'Sex' : ['Male', 'Male','Male','Female','Female'] , \n",
    "                  'Height' : [172,175,170,168,170],\n",
    "                  'Weight' : [70,82,60,55,64]\n",
    "                 }"
   ]
  },
  {
   "cell_type": "code",
   "execution_count": 5,
   "metadata": {},
   "outputs": [
    {
     "data": {
      "text/plain": [
       "['Abhinav', 'Sohail', 'Dheeraj', 'Rashmi', 'Vaishali']"
      ]
     },
     "execution_count": 5,
     "metadata": {},
     "output_type": "execute_result"
    }
   ],
   "source": [
    "locality_data['Name']"
   ]
  },
  {
   "cell_type": "markdown",
   "metadata": {
    "id": "2_rBSgqz5Ums"
   },
   "source": [
    "* Find the mean and median heights and weights of the people in your locality"
   ]
  },
  {
   "cell_type": "code",
   "execution_count": 6,
   "metadata": {
    "id": "zywXa51d6Eev"
   },
   "outputs": [
    {
     "name": "stdout",
     "output_type": "stream",
     "text": [
      "median height is 172\n",
      "median weight is 70\n"
     ]
    }
   ],
   "source": [
    "# Calculate the mean height and print it\n",
    "\n",
    "mean_height=sum(locality_data['Height'])/len(locality_data['Height'])\n",
    "\n",
    "# Calculate the median height and print it\n",
    "t=list(locality_data['Height'])\n",
    "t.sort()\n",
    "median_height=t[int((len(locality_data)+1)/2)]\n",
    "print(f'median height is {median_height}')\n",
    "\n",
    "# Calculate the mean weight and print it\n",
    "\n",
    "mean_weight=sum(locality_data['Weight'])/len(locality_data['Weight'])\n",
    "\n",
    "# Calculate the median weight and print it \n",
    "t=list(locality_data['Weight'])\n",
    "t.sort()\n",
    "median_weight=t[int((len(locality_data)+1)/2)]\n",
    "print(f'median weight is {median_weight}')"
   ]
  },
  {
   "cell_type": "markdown",
   "metadata": {
    "id": "yLb5awgPQeYA"
   },
   "source": [
    "* Write a Python code to print the first three elements from the list of age values corresponding to the key 'Age'"
   ]
  },
  {
   "cell_type": "code",
   "execution_count": 7,
   "metadata": {
    "id": "wef2fVgx6Gji"
   },
   "outputs": [
    {
     "data": {
      "text/plain": [
       "[42, 29, 35]"
      ]
     },
     "execution_count": 7,
     "metadata": {},
     "output_type": "execute_result"
    }
   ],
   "source": [
    "# Python code to print the first three elements for the key 'Age'\n",
    "\n",
    "ages = locality_data['Age'][0:3]\n",
    "ages"
   ]
  },
  {
   "cell_type": "markdown",
   "metadata": {
    "id": "NGrZaqulRIM1"
   },
   "source": [
    "* Write a Python code to print the last two elements of the name list if the list of values corresponding to the key 'Name' contains the element 'Rashmi' else print 'Name not found'"
   ]
  },
  {
   "cell_type": "code",
   "execution_count": 8,
   "metadata": {
    "id": "TBRZzwAcRTNL"
   },
   "outputs": [
    {
     "name": "stdout",
     "output_type": "stream",
     "text": [
      "28 is age Rashmi\n",
      "Female is sex of Rashmi\n",
      "168 is Height of Rashmi\n",
      "55 is Weight ofRashmi\n"
     ]
    }
   ],
   "source": [
    "# Your code below\n",
    "\n",
    "value=locality_data['Name'].index('Rashmi')\n",
    "if not(str(value).isdigit()):\n",
    "    print(f'Name not found')\n",
    "else:\n",
    "    print(f\"{locality_data['Age'][value]} is age {locality_data['Name'][value]}\")\n",
    "    print(f\"{locality_data['Sex'][value]} is sex of {locality_data['Name'][value]}\")\n",
    "    print(f\"{locality_data['Height'][value]} is Height of {locality_data['Name'][value]}\")\n",
    "    print(f\"{locality_data['Weight'][value]} is Weight of{locality_data['Name'][value]}\")\n"
   ]
  },
  {
   "cell_type": "markdown",
   "metadata": {
    "id": "ejRCi-vTs8CU"
   },
   "source": [
    "## <u> Problem 3 </u>\n",
    "\n",
    "A student will not be allowed to sit in exam if his/her attendence is less than 75%.\n",
    "\n",
    "Take following input from user\n",
    "* Number of classes held\n",
    "* Number of classes attended."
   ]
  },
  {
   "cell_type": "code",
   "execution_count": 9,
   "metadata": {
    "id": "C5olNuDGs8CU"
   },
   "outputs": [
    {
     "name": "stdout",
     "output_type": "stream",
     "text": [
      "Number of classes held\n",
      "25\n",
      "Number of classes attended\n",
      "23\n"
     ]
    }
   ],
   "source": [
    "# Enter your input\n",
    "\n",
    "print(\"Number of classes held\")\n",
    "classes_held = int(input())\n",
    "\n",
    "print(\"Number of classes attended\")\n",
    "classes_attended = int(input())"
   ]
  },
  {
   "cell_type": "code",
   "execution_count": 10,
   "metadata": {
    "id": "i553Hqamm2jR"
   },
   "outputs": [
    {
     "name": "stdout",
     "output_type": "stream",
     "text": [
      "The attendance is 92.0\n"
     ]
    }
   ],
   "source": [
    "# Calculate the attendance percentage\n",
    "attendance = classes_attended*100/classes_held\n",
    "\n",
    "print(f'The attendance is {attendance}')"
   ]
  },
  {
   "cell_type": "markdown",
   "metadata": {
    "id": "QYDpXSANnKxV"
   },
   "source": [
    "And print the following statements based on the condition above\n",
    "\n",
    "* percentage of class attended\n",
    "* Is student is allowed to sit in exam or not."
   ]
  },
  {
   "cell_type": "code",
   "execution_count": 11,
   "metadata": {
    "id": "SoQ3P0yym2ts"
   },
   "outputs": [
    {
     "name": "stdout",
     "output_type": "stream",
     "text": [
      "Attendence percentage is 92.0 \n",
      "The student is allowed to sit in exam\n"
     ]
    }
   ],
   "source": [
    "# Your code here \n",
    "if attendance >=75:\n",
    "    print(f'Attendence percentage is {attendance} \\nThe student is allowed to sit in exam')\n",
    "else:\n",
    "    print(f'Attendence percentage is {attendance} \\n The student is not allowed to sit in exam')"
   ]
  },
  {
   "cell_type": "markdown",
   "metadata": {
    "id": "P1rOYC8Is8Cf"
   },
   "source": [
    "## <u>Problem 4</u>\n",
    "\n",
    "### A school has following rules for grading system:\n",
    "* Below 25 - F\n",
    "* 25 to 45 - E\n",
    "* 45 to 50 - D\n",
    "* 50 to 60 - C\n",
    "* 60 to 80 - B\n",
    "* Above 80 - A\n",
    "\n",
    "Keep the left number inclusive and the right number exclusive, something like [25,45) for grade E where the set is closed at 25 and open at 45.\n",
    "\n",
    "Write a Python code which takes marks as inputs from the user and print the corresponding grade."
   ]
  },
  {
   "cell_type": "code",
   "execution_count": 12,
   "metadata": {
    "id": "ySeGyCtCs8Cg"
   },
   "outputs": [
    {
     "name": "stdout",
     "output_type": "stream",
     "text": [
      "Enter your marks\n",
      "95\n"
     ]
    }
   ],
   "source": [
    "# Your input here \n",
    "print(\"Enter your marks\")\n",
    "marks = int(input())"
   ]
  },
  {
   "cell_type": "code",
   "execution_count": 13,
   "metadata": {
    "id": "MI7mOHaqs8Cj"
   },
   "outputs": [
    {
     "name": "stdout",
     "output_type": "stream",
     "text": [
      " E Grade\n"
     ]
    }
   ],
   "source": [
    "# Your code here to print the corresponding grade\n",
    "if marks <25:\n",
    "    print(f'F Grade')\n",
    "elif marks>=25 and marks<45:\n",
    "    print(f' E Grade')\n",
    "elif marks>=45 and marks<50:\n",
    "    print(f' D Grade')\n",
    "elif marks>=50 and marks<60:\n",
    "    print(f' C Grade')\n",
    "elif marks>=60 and marks<80:\n",
    "    print(f' B Grade')          \n",
    "else:\n",
    "    print(f' E Grade')       "
   ]
  }
 ],
 "metadata": {
  "colab": {
   "collapsed_sections": [],
   "name": "Assignment - Statements, Indentation and Conditionals.ipynb",
   "provenance": []
  },
  "kernelspec": {
   "display_name": "Python 3",
   "language": "python",
   "name": "python3"
  },
  "language_info": {
   "codemirror_mode": {
    "name": "ipython",
    "version": 3
   },
   "file_extension": ".py",
   "mimetype": "text/x-python",
   "name": "python",
   "nbconvert_exporter": "python",
   "pygments_lexer": "ipython3",
   "version": "3.8.5"
  }
 },
 "nbformat": 4,
 "nbformat_minor": 1
}
